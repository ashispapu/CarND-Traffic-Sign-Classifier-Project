{
 "cells": [
  {
   "cell_type": "markdown",
   "metadata": {},
   "source": [
    "# Self-Driving Car Engineer Nanodegree\n",
    "\n",
    "## Deep Learning\n",
    "\n",
    "## Project: Build a Traffic Sign Recognition Classifier\n",
    "\n",
    "In this notebook, a template is provided for you to implement your functionality in stages which is required to successfully complete this project. If additional code is required that cannot be included in the notebook, be sure that the Python code is successfully imported and included in your submission, if necessary. Sections that begin with **'Implementation'** in the header indicate where you should begin your implementation for your project. Note that some sections of implementation are optional, and will be marked with **'Optional'** in the header.\n",
    "\n",
    "In addition to implementing code, there will be questions that you must answer which relate to the project and your implementation. Each section where you will answer a question is preceded by a **'Question'** header. Carefully read each question and provide thorough answers in the following text boxes that begin with **'Answer:'**. Your project submission will be evaluated based on your answers to each of the questions and the implementation you provide.\n",
    "\n",
    ">**Note:** Code and Markdown cells can be executed using the **Shift + Enter** keyboard shortcut. In addition, Markdown cells can be edited by typically double-clicking the cell to enter edit mode."
   ]
  },
  {
   "cell_type": "markdown",
   "metadata": {},
   "source": [
    "---\n",
    "## Step 0: Load The Data"
   ]
  },
  {
   "cell_type": "code",
   "execution_count": 1,
   "metadata": {
    "collapsed": true
   },
   "outputs": [],
   "source": [
    "import tensorflow as tf\n",
    "import pickle\n",
    "import numpy as np"
   ]
  },
  {
   "cell_type": "code",
   "execution_count": 2,
   "metadata": {
    "collapsed": false
   },
   "outputs": [],
   "source": [
    "# Load pickled data\n",
    "\n",
    "\n",
    "# TODO: Fill this in based on where you saved the training and testing data\n",
    "\n",
    "training_file = 'traffic-signs-data/train.p'\n",
    "testing_file = 'traffic-signs-data/test.p'\n",
    "\n",
    "with open(training_file, mode='rb') as f:\n",
    "    train = pickle.load(f)\n",
    "with open(testing_file, mode='rb') as f:\n",
    "    test = pickle.load(f)\n",
    "    \n",
    "X_train, y_train = train['features'], train['labels']\n",
    "X_test, y_test = test['features'], test['labels']"
   ]
  },
  {
   "cell_type": "code",
   "execution_count": 3,
   "metadata": {
    "collapsed": false
   },
   "outputs": [
    {
     "name": "stdout",
     "output_type": "stream",
     "text": [
      "(39209, 32, 32, 3) (39209,)\n",
      "(12630, 32, 32, 3) (12630,)\n",
      "43\n"
     ]
    }
   ],
   "source": [
    "\n",
    "print (X_train.shape , y_train.shape)\n",
    "print (X_test.shape , y_test.shape)\n",
    "\n",
    "print (len(np.unique(train['labels'])))"
   ]
  },
  {
   "cell_type": "code",
   "execution_count": 4,
   "metadata": {
    "collapsed": false
   },
   "outputs": [
    {
     "data": {
      "text/plain": [
       "(32, 32, 3)"
      ]
     },
     "execution_count": 4,
     "metadata": {},
     "output_type": "execute_result"
    }
   ],
   "source": [
    "X_train[0].shape"
   ]
  },
  {
   "cell_type": "markdown",
   "metadata": {},
   "source": [
    "---\n",
    "\n",
    "## Step 1: Dataset Summary & Exploration\n",
    "\n",
    "The pickled data is a dictionary with 4 key/value pairs:\n",
    "\n",
    "- `'features'` is a 4D array containing raw pixel data of the traffic sign images, (num examples, width, height, channels).\n",
    "- `'labels'` is a 2D array containing the label/class id of the traffic sign. The file `signnames.csv` contains id -> name mappings for each id.\n",
    "- `'sizes'` is a list containing tuples, (width, height) representing the the original width and height the image.\n",
    "- `'coords'` is a list containing tuples, (x1, y1, x2, y2) representing coordinates of a bounding box around the sign in the image. **THESE COORDINATES ASSUME THE ORIGINAL IMAGE. THE PICKLED DATA CONTAINS RESIZED VERSIONS (32 by 32) OF THESE IMAGES**\n",
    "\n",
    "Complete the basic data summary below."
   ]
  },
  {
   "cell_type": "code",
   "execution_count": 5,
   "metadata": {
    "collapsed": false
   },
   "outputs": [
    {
     "name": "stdout",
     "output_type": "stream",
     "text": [
      "Number of training examples = 39209\n",
      "Number of testing examples = 12630\n",
      "Image data shape = 3072\n",
      "Number of classes = 43\n"
     ]
    }
   ],
   "source": [
    "### Replace each question mark with the appropriate value.\n",
    "\n",
    "# TODO: Number of training examples\n",
    "n_train = 39209\n",
    "\n",
    "# TODO: Number of testing examples.\n",
    "n_test = 12630\n",
    "\n",
    "# TODO: What's the shape of an traffic sign image?\n",
    "image_shape = 32 * 32 * 3\n",
    "\n",
    "# TODO: How many unique classes/labels there are in the dataset.\n",
    "n_classes = 43\n",
    "\n",
    "print(\"Number of training examples =\", n_train)\n",
    "print(\"Number of testing examples =\", n_test)\n",
    "print(\"Image data shape =\", image_shape)\n",
    "print(\"Number of classes =\", n_classes)"
   ]
  },
  {
   "cell_type": "markdown",
   "metadata": {},
   "source": [
    "Visualize the German Traffic Signs Dataset using the pickled file(s). This is open ended, suggestions include: plotting traffic sign images, plotting the count of each sign, etc.\n",
    "\n",
    "The [Matplotlib](http://matplotlib.org/) [examples](http://matplotlib.org/examples/index.html) and [gallery](http://matplotlib.org/gallery.html) pages are a great resource for doing visualizations in Python.\n",
    "\n",
    "**NOTE:** It's recommended you start with something simple first. If you wish to do more, come back to it after you've completed the rest of the sections."
   ]
  },
  {
   "cell_type": "code",
   "execution_count": 6,
   "metadata": {
    "collapsed": false
   },
   "outputs": [
    {
     "data": {
      "image/png": "[encoded data removed]",
      "text/plain": [
       "<matplotlib.figure.Figure at 0x7f55b3d9c438>"
      ]
     },
     "metadata": {},
     "output_type": "display_data"
    }
   ],
   "source": [
    "### Data exploration visualization goes here.\n",
    "### Feel free to use as many code cells as needed.\n",
    "import matplotlib.pyplot as plt\n",
    "# Visualizations will be shown in the notebook.\n",
    "%matplotlib inline\n",
    "\n",
    "\n",
    "imgplot = plt.imshow(X_train[90])"
   ]
  },
  {
   "cell_type": "markdown",
   "metadata": {},
   "source": [
    "----\n",
    "\n",
    "## Step 2: Design and Test a Model Architecture\n",
    "\n",
    "Design and implement a deep learning model that learns to recognize traffic signs. Train and test your model on the [German Traffic Sign Dataset](http://benchmark.ini.rub.de/?section=gtsrb&subsection=dataset).\n",
    "\n",
    "There are various aspects to consider when thinking about this problem:\n",
    "\n",
    "- Neural network architecture\n",
    "- Play around preprocessing techniques (normalization, rgb to grayscale, etc)\n",
    "- Number of examples per label (some have more than others).\n",
    "- Generate fake data.\n",
    "\n",
    "Here is an example of a [published baseline model on this problem](http://yann.lecun.com/exdb/publis/pdf/sermanet-ijcnn-11.pdf). It's not required to be familiar with the approach used in the paper but, it's good practice to try to read papers like these.\n",
    "\n",
    "**NOTE:** The LeNet-5 implementation shown in the [classroom](https://classroom.udacity.com/nanodegrees/nd013/parts/fbf77062-5703-404e-b60c-95b78b2f3f9e/modules/6df7ae49-c61c-4bb2-a23e-6527e69209ec/lessons/601ae704-1035-4287-8b11-e2c2716217ad/concepts/d4aca031-508f-4e0b-b493-e7b706120f81) at the end of the CNN lesson is a solid starting point. You'll have to change the number of classes and possibly the preprocessing, but aside from that it's plug and play!"
   ]
  },
  {
   "cell_type": "code",
   "execution_count": 7,
   "metadata": {
    "collapsed": false
   },
   "outputs": [
    {
     "name": "stdout",
     "output_type": "stream",
     "text": [
      "Counter({2: 2250, 1: 2220, 13: 2160, 12: 2100, 38: 2070, 10: 2010, 4: 1980, 5: 1860, 25: 1500, 9: 1470, 7: 1440, 3: 1410, 8: 1410, 11: 1320, 18: 1200, 35: 1200, 17: 1110, 14: 780, 31: 780, 33: 689, 15: 630, 26: 600, 28: 540, 23: 510, 30: 450, 6: 420, 16: 420, 34: 420, 22: 390, 36: 390, 20: 360, 40: 360, 21: 330, 39: 300, 24: 270, 29: 270, 27: 240, 32: 240, 41: 240, 42: 240, 0: 210, 19: 210, 37: 210})\n",
      "(0, 1, 2, 3, 4, 5, 6, 7, 8, 9, 10, 11, 12, 13, 14, 15, 16, 17, 18, 19, 20, 21, 22, 23, 24, 25, 26, 27, 28, 29, 30, 31, 32, 33, 34, 35, 36, 37, 38, 39, 40, 41, 42) (210, 2220, 2250, 1410, 1980, 1860, 420, 1440, 1410, 1470, 2010, 1320, 2100, 2160, 780, 630, 420, 1110, 1200, 210, 360, 330, 390, 510, 270, 1500, 600, 240, 540, 270, 450, 780, 240, 689, 420, 1200, 390, 210, 2070, 300, 360, 240, 240)\n"
     ]
    },
    {
     "data": {
      "image/png": "[encoded data removed]",
      "text/plain": [
       "<matplotlib.figure.Figure at 0x7f55b193f860>"
      ]
     },
     "metadata": {},
     "output_type": "display_data"
    }
   ],
   "source": [
    "import collections\n",
    "\n",
    "counter = collections.Counter(y_train)\n",
    "print(counter)\n",
    "plt.title(' Number of Training Samples in each  Class ')\n",
    "labels, values = zip(*counter.items())\n",
    "print (labels, values)\n",
    "indexes = np.arange(len(labels))\n",
    "width = 0.5\n",
    "plt.bar(indexes, values, width)\n",
    "plt.show()"
   ]
  },
  {
   "cell_type": "code",
   "execution_count": 8,
   "metadata": {
    "collapsed": false
   },
   "outputs": [
    {
     "data": {
      "image/png": "[encoded data removed]",
      "text/plain": [
       "<matplotlib.figure.Figure at 0x7f55b1943160>"
      ]
     },
     "metadata": {},
     "output_type": "display_data"
    }
   ],
   "source": [
    "counter = collections.Counter(y_test)\n",
    "plt.title('Number of Testing Samples in each  Class')\n",
    "labels, values = zip(*counter.items())\n",
    "\n",
    "indexes = np.arange(len(labels))\n",
    "width = 0.5\n",
    "plt.bar(indexes, values, width)\n",
    "plt.show()"
   ]
  },
  {
   "cell_type": "markdown",
   "metadata": {},
   "source": [
    "### Implementation\n",
    "\n",
    "Use the code cell (or multiple code cells, if necessary) to implement the first step of your project. Once you have completed your implementation and are satisfied with the results, be sure to thoroughly answer the questions that follow."
   ]
  },
  {
   "cell_type": "code",
   "execution_count": 9,
   "metadata": {
    "collapsed": false
   },
   "outputs": [
    {
     "name": "stdout",
     "output_type": "stream",
     "text": [
      "(39209, 32, 32, 3)\n",
      "(12630, 32, 32, 3)\n"
     ]
    }
   ],
   "source": [
    "### Preprocess the data here.\n",
    "### Feel free to use as many code cells as needed.\n",
    "\n",
    "\n",
    "def normalize(image_data):\n",
    "    a = 0.1; b = 0.9; MIN = 0; MAX = 255\n",
    "    return a + (((image_data - MIN)*(b - a))/(MAX - MIN))\n",
    "\n",
    "X_train = normalize(X_train.astype(np.float32))\n",
    "print (X_train.shape)\n",
    "\n",
    "X_test = normalize(X_test.astype(np.float32))\n",
    "print (X_test.shape)"
   ]
  },
  {
   "cell_type": "markdown",
   "metadata": {},
   "source": [
    "### Question 1 \n",
    "\n",
    "_Describe how you preprocessed the data. Why did you choose that technique?_"
   ]
  },
  {
   "cell_type": "markdown",
   "metadata": {},
   "source": [
    "**Answer:**\n",
    "\n",
    "* I have normalized the data with a range from 0.1 to 0.9 for smooth training "
   ]
  },
  {
   "cell_type": "code",
   "execution_count": 10,
   "metadata": {
    "collapsed": false
   },
   "outputs": [
    {
     "name": "stdout",
     "output_type": "stream",
     "text": [
      "Training and validation sets split.\n",
      "Training Data :  (35288, 32, 32, 3)\n",
      "Validation Data :  (3921, 32, 32, 3)\n"
     ]
    }
   ],
   "source": [
    "### Generate data additional data (OPTIONAL!)\n",
    "### and split the data into training/validation/testing sets here.\n",
    "### Feel free to use as many code cells as needed.\n",
    "\n",
    "from sklearn.model_selection import train_test_split\n",
    "from sklearn.utils import shuffle\n",
    "\n",
    "X_train, y_train = shuffle(X_train, y_train)\n",
    "\n",
    "X_train, X_valid, y_train, y_valid = train_test_split(\n",
    "    X_train,\n",
    "    y_train,\n",
    "    test_size=0.1,\n",
    "    random_state=0)\n",
    "print('Training and validation sets split.')\n",
    "print('Training Data : ', X_train.shape)\n",
    "print('Validation Data : ', X_valid.shape)\n"
   ]
  },
  {
   "cell_type": "markdown",
   "metadata": {},
   "source": [
    "### Question 2\n",
    "\n",
    "_Describe how you set up the training, validation and testing data for your model. **Optional**: If you generated additional data, how did you generate the data? Why did you generate the data? What are the differences in the new dataset (with generated data) from the original dataset?_"
   ]
  },
  {
   "cell_type": "markdown",
   "metadata": {},
   "source": [
    "**Answer:**\n",
    "\n",
    "I did not generate any additional data, however I randomize the data since the distribution of the training images is not evenly split. I also went with a 10% test_size for the validation set ."
   ]
  },
  {
   "cell_type": "code",
   "execution_count": 11,
   "metadata": {
    "collapsed": true
   },
   "outputs": [],
   "source": [
    "import tensorflow as tf\n",
    "from tensorflow.contrib.layers import flatten\n",
    "\n",
    "\n",
    "def LeNet(x):    \n",
    "    # Hyperparameters\n",
    "    mu = 0\n",
    "    sigma = 0.1\n",
    "    keep_prob = 0.5\n",
    "    \n",
    "    # SOLUTION: Layer 1: Convolutional. Input = 32x32x3. Output = 28x28x6.\n",
    "    conv1_W = tf.Variable(tf.truncated_normal(shape=(5, 5, 3, 6), mean = mu, stddev = sigma))\n",
    "    conv1_b = tf.Variable(tf.zeros(6))\n",
    "    conv1   = tf.nn.conv2d(x, conv1_W, strides=[1, 1, 1, 1], padding='VALID') + conv1_b\n",
    "\n",
    "    # SOLUTION: Activation.\n",
    "    conv1 = tf.nn.relu(conv1)\n",
    "\n",
    "    # SOLUTION: Pooling. Input = 28x28x6. Output = 14x14x6.\n",
    "    conv1 = tf.nn.max_pool(conv1, ksize=[1, 2, 2, 1], strides=[1, 2, 2, 1], padding='VALID')\n",
    "\n",
    "    # SOLUTION: Layer 2: Convolutional. Output = 10x10x16.\n",
    "    conv2_W = tf.Variable(tf.truncated_normal(shape=(5, 5, 6, 16), mean = mu, stddev = sigma))\n",
    "    conv2_b = tf.Variable(tf.zeros(16))\n",
    "    conv2   = tf.nn.conv2d(conv1, conv2_W, strides=[1, 1, 1, 1], padding='VALID') + conv2_b\n",
    "    \n",
    "    # SOLUTION: Activation.\n",
    "    conv2 = tf.nn.relu(conv2)\n",
    "\n",
    "    # SOLUTION: Pooling. Input = 10x10x16. Output = 5x5x16.\n",
    "    conv2 = tf.nn.max_pool(conv2, ksize=[1, 2, 2, 1], strides=[1, 2, 2, 1], padding='VALID')\n",
    "\n",
    "    # SOLUTION: Flatten. Input = 5x5x16. Output = 400.\n",
    "    fc0   = flatten(conv2)\n",
    "    \n",
    "    # SOLUTION: Layer 3: Fully Connected. Input = 400. Output = 120.\n",
    "    fc1_W = tf.Variable(tf.truncated_normal(shape=(400, 120), mean = mu, stddev = sigma))\n",
    "    fc1_b = tf.Variable(tf.zeros(120))\n",
    "    fc1   = tf.matmul(fc0, fc1_W) + fc1_b\n",
    "    \n",
    "    # SOLUTION: Activation.\n",
    "    fc1    = tf.nn.relu(fc1)\n",
    "    \n",
    "    ## Applying Dropout To FC1\n",
    "    fc1 = tf.nn.dropout(fc1 , keep_prob)\n",
    "\n",
    "    # SOLUTION: Layer 4: Fully Connected. Input = 120. Output = 84.\n",
    "    fc2_W  = tf.Variable(tf.truncated_normal(shape=(120, 84), mean = mu, stddev = sigma))\n",
    "    fc2_b  = tf.Variable(tf.zeros(84))\n",
    "    fc2    = tf.matmul(fc1, fc2_W) + fc2_b\n",
    "    \n",
    "    # SOLUTION: Activation.\n",
    "    fc2    = tf.nn.relu(fc2)\n",
    "    \n",
    "    ## Applying Dropout To FC2\n",
    "    fc2 = tf.nn.dropout(fc2 , keep_prob)\n",
    "    \n",
    "    # SOLUTION: Layer 5: Fully Connected. Input = 84. Output = 43.\n",
    "    fc3_W  = tf.Variable(tf.truncated_normal(shape=(84, 43), mean = mu, stddev = sigma))\n",
    "    fc3_b  = tf.Variable(tf.zeros(43))\n",
    "    logits = tf.matmul(fc2, fc3_W) + fc3_b\n",
    "    \n",
    "    # Applying  L2 Regularization to fc1_W and fc2_W weight layers \n",
    "    regularizers = tf.nn.l2_loss(fc1_W) + tf.nn.l2_loss(fc2_W)\n",
    "    \n",
    "    return logits , regularizers"
   ]
  },
  {
   "cell_type": "code",
   "execution_count": 20,
   "metadata": {
    "collapsed": true
   },
   "outputs": [],
   "source": [
    "\n",
    "EPOCHS = 100\n",
    "BATCH_SIZE = 128"
   ]
  },
  {
   "cell_type": "code",
   "execution_count": 21,
   "metadata": {
    "collapsed": false
   },
   "outputs": [
    {
     "name": "stdout",
     "output_type": "stream",
     "text": [
      "<bound method Tensor.get_shape of <tf.Tensor 'one_hot_1:0' shape=<unknown> dtype=float32>>\n"
     ]
    }
   ],
   "source": [
    "x = tf.placeholder(tf.float32, (None, 32, 32, 3))\n",
    "y = tf.placeholder(tf.int32, (None))\n",
    "one_hot_y = tf.one_hot(y, 43)\n",
    "\n",
    "print (one_hot_y.get_shape)"
   ]
  },
  {
   "cell_type": "markdown",
   "metadata": {},
   "source": [
    "####  Creating Training Pipeline"
   ]
  },
  {
   "cell_type": "code",
   "execution_count": 22,
   "metadata": {
    "collapsed": false,
    "scrolled": true
   },
   "outputs": [],
   "source": [
    "rate = 0.001\n",
    "beta = 0.01\n",
    "\n",
    "logits , regularizer = LeNet(x)\n",
    "cross_entropy = tf.nn.softmax_cross_entropy_with_logits(logits, one_hot_y)\n",
    "loss_operation = tf.reduce_mean(cross_entropy)\n",
    "\n",
    "loss_operation = tf.reduce_mean(loss_operation + beta * regularizer)\n",
    "\n",
    "# Loss function using L2 Regularization\n",
    "loss = tf.reduce_mean(loss_operation + beta * regularizer)\n",
    "\n",
    "optimizer = tf.train.AdamOptimizer(learning_rate = rate)\n",
    "training_operation = optimizer.minimize(loss)\n",
    "\n",
    "correct_prediction = tf.equal(tf.argmax(logits, 1), tf.argmax(one_hot_y, 1))\n",
    "accuracy_operation = tf.reduce_mean(tf.cast(correct_prediction, tf.float32))"
   ]
  },
  {
   "cell_type": "markdown",
   "metadata": {},
   "source": [
    "#### Model Evaluation\n"
   ]
  },
  {
   "cell_type": "code",
   "execution_count": 23,
   "metadata": {
    "collapsed": false
   },
   "outputs": [],
   "source": [
    "saver = tf.train.Saver()\n",
    "\n",
    "def evaluate(X_data, y_data):\n",
    "    num_examples = len(X_data)\n",
    "    total_accuracy = 0\n",
    "    sess = tf.get_default_session()\n",
    "    for offset in range(0, num_examples, BATCH_SIZE):\n",
    "        batch_x, batch_y = X_data[offset:offset+BATCH_SIZE], y_data[offset:offset+BATCH_SIZE]\n",
    "        accuracy = sess.run(accuracy_operation, feed_dict={x: batch_x, y: batch_y})\n",
    "        total_accuracy += (accuracy * len(batch_x))\n",
    "    return total_accuracy / num_examples"
   ]
  },
  {
   "cell_type": "code",
   "execution_count": 81,
   "metadata": {
    "collapsed": false
   },
   "outputs": [
    {
     "data": {
      "text/plain": [
       "(3, 32, 32, 3)"
      ]
     },
     "execution_count": 81,
     "metadata": {},
     "output_type": "execute_result"
    }
   ],
   "source": [
    "### Define your architecture here.\n",
    "### Feel free to use as many code cells as needed.\n",
    "\n",
    "X_train[2:5].shape"
   ]
  },
  {
   "cell_type": "markdown",
   "metadata": {},
   "source": [
    "### Question 3\n",
    "\n",
    "_What does your final architecture look like? (Type of model, layers, sizes, connectivity, etc.)  For reference on how to build a deep neural network using TensorFlow, see [Deep Neural Network in TensorFlow\n",
    "](https://classroom.udacity.com/nanodegrees/nd013/parts/fbf77062-5703-404e-b60c-95b78b2f3f9e/modules/6df7ae49-c61c-4bb2-a23e-6527e69209ec/lessons/b516a270-8600-4f93-a0a3-20dfeabe5da6/concepts/83a3a2a2-a9bd-4b7b-95b0-eb924ab14432) from the classroom._\n"
   ]
  },
  {
   "cell_type": "markdown",
   "metadata": {},
   "source": [
    "**Answer:**\n",
    "\n",
    "* Implemented architecture is following LeNet architecture .\n",
    "* As this is a case of image classification , I thought of leveraging the power of Convolutional networks . So I started with LeNet .\n",
    "\n",
    "* The layers of the network as follow :\n",
    "\n",
    "** INPUT_LAYER (32x32x3) -> CONV_LAYER (5x5x3x6) -> RELU -> MAX_POOLING(1,2,2,1) -> CONV_LAYER (5x5x6x16) -> RELU\n",
    " -> MAX_POOLING (1,2,2,1) -> FC1(400x120) -> RELU -> FC2 (120x84) -> RELU -> FC3 (84x43) **\n",
    "\n"
   ]
  },
  {
   "cell_type": "code",
   "execution_count": 24,
   "metadata": {
    "collapsed": false,
    "scrolled": true
   },
   "outputs": [
    {
     "name": "stdout",
     "output_type": "stream",
     "text": [
      "Training...\n",
      "Training Start Time  14869.699081\n",
      "EPOCH 1 ...\n",
      "Validation Accuracy = 34.175\n",
      "Training Accuracy = 33.836\n",
      "Training End Time  163.45266099999935\n",
      "\n",
      "EPOCH 2 ...\n",
      "Validation Accuracy = 54.425\n",
      "Training Accuracy = 52.604\n",
      "Training End Time  392.3752629999999\n",
      "\n",
      "EPOCH 3 ...\n",
      "Validation Accuracy = 61.362\n",
      "Training Accuracy = 60.788\n",
      "Training End Time  632.3166389999988\n",
      "\n",
      "EPOCH 4 ...\n",
      "Validation Accuracy = 67.636\n",
      "Training Accuracy = 67.031\n",
      "Training End Time  874.1584719999992\n",
      "\n",
      "EPOCH 5 ...\n",
      "Validation Accuracy = 72.711\n",
      "Training Accuracy = 71.945\n",
      "Training End Time  1115.2352409999985\n",
      "\n",
      "EPOCH 6 ...\n",
      "Validation Accuracy = 74.726\n",
      "Training Accuracy = 74.102\n",
      "Training End Time  1392.2665449999986\n",
      "\n",
      "EPOCH 7 ...\n",
      "Validation Accuracy = 75.389\n",
      "Training Accuracy = 75.371\n",
      "Training End Time  1760.2055689999997\n",
      "\n",
      "EPOCH 8 ...\n",
      "Validation Accuracy = 77.888\n",
      "Training Accuracy = 77.893\n",
      "Training End Time  2142.9087659999986\n",
      "\n",
      "EPOCH 9 ...\n",
      "Validation Accuracy = 79.827\n",
      "Training Accuracy = 79.126\n",
      "Training End Time  2527.098831000001\n",
      "\n",
      "EPOCH 10 ...\n",
      "Validation Accuracy = 81.357\n",
      "Training Accuracy = 80.713\n",
      "Training End Time  2803.1056530000005\n",
      "\n",
      "EPOCH 11 ...\n",
      "Validation Accuracy = 81.994\n",
      "Training Accuracy = 81.277\n",
      "Training End Time  3078.7124989999993\n",
      "\n",
      "EPOCH 12 ...\n",
      "Validation Accuracy = 82.836\n",
      "Training Accuracy = 82.881\n",
      "Training End Time  3392.007535999999\n",
      "\n",
      "EPOCH 13 ...\n",
      "Validation Accuracy = 82.836\n",
      "Training Accuracy = 82.433\n",
      "Training End Time  3685.990513999999\n",
      "\n",
      "EPOCH 14 ...\n",
      "Validation Accuracy = 83.576\n",
      "Training Accuracy = 83.521\n",
      "Training End Time  3982.495495000001\n",
      "\n",
      "EPOCH 15 ...\n",
      "Validation Accuracy = 84.927\n",
      "Training Accuracy = 83.544\n",
      "Training End Time  4272.917491999999\n",
      "\n",
      "EPOCH 16 ...\n",
      "Validation Accuracy = 84.239\n",
      "Training Accuracy = 84.527\n",
      "Training End Time  4573.867468999999\n",
      "\n",
      "EPOCH 17 ...\n",
      "Validation Accuracy = 85.896\n",
      "Training Accuracy = 85.924\n",
      "Training End Time  4868.822334999999\n",
      "\n",
      "EPOCH 18 ...\n",
      "Validation Accuracy = 86.585\n",
      "Training Accuracy = 85.718\n",
      "Training End Time  5156.501587000001\n",
      "\n",
      "EPOCH 19 ...\n",
      "Validation Accuracy = 86.534\n",
      "Training Accuracy = 86.701\n",
      "Training End Time  5474.487838999999\n",
      "\n",
      "EPOCH 20 ...\n",
      "Validation Accuracy = 87.401\n",
      "Training Accuracy = 87.316\n",
      "Training End Time  5808.698842\n",
      "\n",
      "EPOCH 21 ...\n",
      "Validation Accuracy = 87.121\n",
      "Training Accuracy = 87.514\n",
      "Training End Time  6133.171506000001\n",
      "\n",
      "EPOCH 22 ...\n",
      "Validation Accuracy = 87.478\n",
      "Training Accuracy = 87.639\n",
      "Training End Time  6426.817551999999\n",
      "\n",
      "EPOCH 23 ...\n",
      "Validation Accuracy = 86.713\n",
      "Training Accuracy = 87.367\n",
      "Training End Time  6714.404841999998\n",
      "\n",
      "EPOCH 24 ...\n",
      "Validation Accuracy = 88.217\n",
      "Training Accuracy = 88.169\n",
      "Training End Time  6997.002214999999\n",
      "\n",
      "EPOCH 25 ...\n",
      "Validation Accuracy = 88.141\n",
      "Training Accuracy = 87.789\n",
      "Training End Time  7276.039101\n",
      "\n",
      "EPOCH 26 ...\n",
      "Validation Accuracy = 87.350\n",
      "Training Accuracy = 88.138\n",
      "Training End Time  7555.499566\n",
      "\n",
      "EPOCH 27 ...\n",
      "Validation Accuracy = 88.676\n",
      "Training Accuracy = 88.767\n",
      "Training End Time  7832.7003239999995\n",
      "\n",
      "EPOCH 28 ...\n",
      "Validation Accuracy = 88.600\n",
      "Training Accuracy = 88.937\n",
      "Training End Time  8104.645856000001\n",
      "\n",
      "EPOCH 29 ...\n",
      "Validation Accuracy = 88.982\n",
      "Training Accuracy = 88.690\n",
      "Training End Time  8379.218132\n",
      "\n",
      "EPOCH 30 ...\n",
      "Validation Accuracy = 88.345\n",
      "Training Accuracy = 89.356\n",
      "Training End Time  8665.375865\n",
      "\n",
      "EPOCH 31 ...\n",
      "Validation Accuracy = 89.467\n",
      "Training Accuracy = 89.424\n",
      "Training End Time  8943.830769999999\n",
      "\n",
      "EPOCH 32 ...\n",
      "Validation Accuracy = 89.441\n",
      "Training Accuracy = 89.617\n",
      "Training End Time  9241.546692999998\n",
      "\n",
      "EPOCH 33 ...\n",
      "Validation Accuracy = 89.008\n",
      "Training Accuracy = 89.025\n",
      "Training End Time  9531.478376999998\n",
      "\n",
      "EPOCH 34 ...\n",
      "Validation Accuracy = 89.467\n",
      "Training Accuracy = 89.521\n",
      "Training End Time  9838.570214999998\n",
      "\n",
      "EPOCH 35 ...\n",
      "Validation Accuracy = 90.487\n",
      "Training Accuracy = 90.339\n",
      "Training End Time  10133.385639999999\n",
      "\n",
      "EPOCH 36 ...\n",
      "Validation Accuracy = 90.003\n",
      "Training Accuracy = 90.073\n",
      "Training End Time  10432.721496\n",
      "\n",
      "EPOCH 37 ...\n",
      "Validation Accuracy = 89.518\n",
      "Training Accuracy = 90.084\n",
      "Training End Time  10753.129834999998\n",
      "\n",
      "EPOCH 38 ...\n",
      "Validation Accuracy = 90.283\n",
      "Training Accuracy = 90.702\n",
      "Training End Time  11076.031182\n",
      "\n",
      "EPOCH 39 ...\n",
      "Validation Accuracy = 89.952\n",
      "Training Accuracy = 90.603\n",
      "Training End Time  11401.826571\n",
      "\n",
      "EPOCH 40 ...\n",
      "Validation Accuracy = 90.666\n",
      "Training Accuracy = 90.161\n",
      "Training End Time  11725.171984999999\n",
      "\n",
      "EPOCH 41 ...\n",
      "Validation Accuracy = 90.130\n",
      "Training Accuracy = 90.235\n",
      "Training End Time  12031.482777\n",
      "\n",
      "EPOCH 42 ...\n",
      "Validation Accuracy = 89.748\n",
      "Training Accuracy = 90.184\n",
      "Training End Time  12327.345712\n",
      "\n",
      "EPOCH 43 ...\n",
      "Validation Accuracy = 90.309\n",
      "Training Accuracy = 90.586\n",
      "Training End Time  12619.161694\n",
      "\n",
      "EPOCH 44 ...\n",
      "Validation Accuracy = 89.977\n",
      "Training Accuracy = 90.861\n",
      "Training End Time  12919.115184\n",
      "\n",
      "EPOCH 45 ...\n",
      "Validation Accuracy = 90.742\n",
      "Training Accuracy = 91.051\n",
      "Training End Time  13204.358610000001\n",
      "\n",
      "EPOCH 46 ...\n",
      "Validation Accuracy = 91.329\n",
      "Training Accuracy = 91.496\n",
      "Training End Time  13489.981651\n",
      "\n",
      "EPOCH 47 ...\n",
      "Validation Accuracy = 90.054\n",
      "Training Accuracy = 90.184\n",
      "Training End Time  13773.15693\n",
      "\n",
      "EPOCH 48 ...\n",
      "Validation Accuracy = 90.079\n",
      "Training Accuracy = 91.017\n",
      "Training End Time  14059.741542999998\n",
      "\n",
      "EPOCH 49 ...\n",
      "Validation Accuracy = 89.875\n",
      "Training Accuracy = 90.580\n",
      "Training End Time  14340.005274999998\n",
      "\n",
      "EPOCH 50 ...\n",
      "Validation Accuracy = 90.666\n",
      "Training Accuracy = 91.646\n",
      "Training End Time  14625.301096000001\n",
      "\n",
      "EPOCH 51 ...\n",
      "Validation Accuracy = 91.278\n",
      "Training Accuracy = 91.249\n",
      "Training End Time  14899.247785999998\n",
      "\n",
      "EPOCH 52 ...\n",
      "Validation Accuracy = 90.793\n",
      "Training Accuracy = 91.555\n",
      "Training End Time  15180.329424999998\n",
      "\n",
      "EPOCH 53 ...\n",
      "Validation Accuracy = 90.870\n",
      "Training Accuracy = 91.592\n",
      "Training End Time  15461.163851\n",
      "\n",
      "EPOCH 54 ...\n",
      "Validation Accuracy = 90.232\n",
      "Training Accuracy = 91.388\n",
      "Training End Time  15738.274689\n",
      "\n",
      "EPOCH 55 ...\n",
      "Validation Accuracy = 90.487\n",
      "Training Accuracy = 91.153\n",
      "Training End Time  16016.711856\n",
      "\n",
      "EPOCH 56 ...\n",
      "Validation Accuracy = 91.839\n",
      "Training Accuracy = 92.210\n",
      "Training End Time  16302.750686999998\n",
      "\n",
      "EPOCH 57 ...\n",
      "Validation Accuracy = 90.717\n",
      "Training Accuracy = 91.552\n",
      "Training End Time  16573.528233999998\n",
      "\n",
      "EPOCH 58 ...\n",
      "Validation Accuracy = 91.048\n",
      "Training Accuracy = 92.108\n",
      "Training End Time  16858.66764\n",
      "\n",
      "EPOCH 59 ...\n",
      "Validation Accuracy = 91.762\n",
      "Training Accuracy = 91.873\n",
      "Training End Time  17128.19051\n",
      "\n",
      "EPOCH 60 ...\n",
      "Validation Accuracy = 91.252\n",
      "Training Accuracy = 91.448\n",
      "Training End Time  17404.712797\n",
      "\n",
      "EPOCH 61 ...\n",
      "Validation Accuracy = 91.762\n",
      "Training Accuracy = 92.142\n",
      "Training End Time  17678.468777000002\n",
      "\n",
      "EPOCH 62 ...\n",
      "Validation Accuracy = 91.405\n",
      "Training Accuracy = 91.745\n",
      "Training End Time  17936.578163\n",
      "\n",
      "EPOCH 63 ...\n",
      "Validation Accuracy = 91.431\n",
      "Training Accuracy = 92.190\n",
      "Training End Time  18220.179397\n",
      "\n",
      "EPOCH 64 ...\n",
      "Validation Accuracy = 91.558\n",
      "Training Accuracy = 91.830\n",
      "Training End Time  18506.897014000002\n",
      "\n",
      "EPOCH 65 ...\n",
      "Validation Accuracy = 91.941\n",
      "Training Accuracy = 92.315\n",
      "Training End Time  18802.008817\n",
      "\n",
      "EPOCH 66 ...\n",
      "Validation Accuracy = 91.941\n",
      "Training Accuracy = 92.482\n",
      "Training End Time  19087.01547\n",
      "\n",
      "EPOCH 67 ...\n",
      "Validation Accuracy = 91.431\n",
      "Training Accuracy = 92.352\n",
      "Training End Time  19361.759637000003\n",
      "\n",
      "EPOCH 68 ...\n",
      "Validation Accuracy = 91.303\n",
      "Training Accuracy = 92.034\n",
      "Training End Time  19641.883417999998\n",
      "\n",
      "EPOCH 69 ...\n",
      "Validation Accuracy = 91.635\n",
      "Training Accuracy = 92.286\n",
      "Training End Time  19922.193980000004\n",
      "\n",
      "EPOCH 70 ...\n",
      "Validation Accuracy = 91.405\n",
      "Training Accuracy = 91.952\n",
      "Training End Time  20218.034352000002\n",
      "\n",
      "EPOCH 71 ...\n",
      "Validation Accuracy = 91.074\n",
      "Training Accuracy = 92.088\n",
      "Training End Time  20497.959132000004\n",
      "\n",
      "EPOCH 72 ...\n",
      "Validation Accuracy = 91.558\n",
      "Training Accuracy = 91.603\n",
      "Training End Time  20773.173694999998\n",
      "\n",
      "EPOCH 73 ...\n",
      "Validation Accuracy = 91.635\n",
      "Training Accuracy = 92.556\n",
      "Training End Time  21052.664865\n",
      "\n",
      "EPOCH 74 ...\n",
      "Validation Accuracy = 92.017\n",
      "Training Accuracy = 92.496\n",
      "Training End Time  21325.957331999998\n",
      "\n",
      "EPOCH 75 ...\n",
      "Validation Accuracy = 92.017\n",
      "Training Accuracy = 92.570\n",
      "Training End Time  21596.809978000005\n",
      "\n",
      "EPOCH 76 ...\n",
      "Validation Accuracy = 92.017\n",
      "Training Accuracy = 92.510\n",
      "Training End Time  21870.745995000005\n",
      "\n",
      "EPOCH 77 ...\n",
      "Validation Accuracy = 91.456\n",
      "Training Accuracy = 92.264\n",
      "Training End Time  22141.806213000003\n",
      "\n",
      "EPOCH 78 ...\n",
      "Validation Accuracy = 91.966\n",
      "Training Accuracy = 92.972\n",
      "Training End Time  22416.166874000002\n",
      "\n",
      "EPOCH 79 ...\n",
      "Validation Accuracy = 93.063\n",
      "Training Accuracy = 93.224\n",
      "Training End Time  22699.170154\n",
      "\n",
      "EPOCH 80 ...\n",
      "Validation Accuracy = 91.354\n",
      "Training Accuracy = 92.422\n",
      "Training End Time  22968.395318000003\n",
      "\n",
      "EPOCH 81 ...\n",
      "Validation Accuracy = 92.170\n",
      "Training Accuracy = 92.445\n",
      "Training End Time  23242.986022000005\n",
      "\n",
      "EPOCH 82 ...\n",
      "Validation Accuracy = 91.737\n",
      "Training Accuracy = 92.394\n",
      "Training End Time  23522.458866\n",
      "\n",
      "EPOCH 83 ...\n",
      "Validation Accuracy = 91.048\n",
      "Training Accuracy = 92.411\n",
      "Training End Time  23809.916636\n",
      "\n",
      "EPOCH 84 ...\n",
      "Validation Accuracy = 92.247\n",
      "Training Accuracy = 93.156\n",
      "Training End Time  24077.258188\n",
      "\n",
      "EPOCH 85 ...\n",
      "Validation Accuracy = 92.323\n",
      "Training Accuracy = 92.816\n",
      "Training End Time  24357.366865000004\n",
      "\n",
      "EPOCH 86 ...\n",
      "Validation Accuracy = 92.527\n",
      "Training Accuracy = 92.913\n",
      "Training End Time  24637.116488\n",
      "\n",
      "EPOCH 87 ...\n",
      "Validation Accuracy = 92.527\n",
      "Training Accuracy = 93.003\n",
      "Training End Time  24923.307133000002\n",
      "\n",
      "EPOCH 88 ...\n",
      "Validation Accuracy = 92.604\n",
      "Training Accuracy = 92.629\n",
      "Training End Time  25214.261688\n",
      "\n",
      "EPOCH 89 ...\n",
      "Validation Accuracy = 91.992\n",
      "Training Accuracy = 92.675\n",
      "Training End Time  25494.356528000004\n",
      "\n",
      "EPOCH 90 ...\n",
      "Validation Accuracy = 92.170\n",
      "Training Accuracy = 92.856\n",
      "Training End Time  25778.870979\n",
      "\n",
      "EPOCH 91 ...\n",
      "Validation Accuracy = 92.145\n",
      "Training Accuracy = 92.660\n",
      "Training End Time  26057.773514\n",
      "\n",
      "EPOCH 92 ...\n",
      "Validation Accuracy = 92.604\n",
      "Training Accuracy = 92.762\n",
      "Training End Time  26343.619881\n",
      "\n",
      "EPOCH 93 ...\n",
      "Validation Accuracy = 92.578\n",
      "Training Accuracy = 92.898\n",
      "Training End Time  26613.85793\n",
      "\n",
      "EPOCH 94 ...\n",
      "Validation Accuracy = 92.731\n",
      "Training Accuracy = 93.426\n",
      "Training End Time  26894.056371\n",
      "\n",
      "EPOCH 95 ...\n",
      "Validation Accuracy = 92.017\n",
      "Training Accuracy = 93.051\n",
      "Training End Time  27174.207292\n",
      "\n",
      "EPOCH 96 ...\n",
      "Validation Accuracy = 92.629\n",
      "Training Accuracy = 93.185\n",
      "Training End Time  27445.239838\n",
      "\n",
      "EPOCH 97 ...\n",
      "Validation Accuracy = 92.629\n",
      "Training Accuracy = 92.607\n",
      "Training End Time  27721.086418\n",
      "\n",
      "EPOCH 98 ...\n",
      "Validation Accuracy = 92.196\n",
      "Training Accuracy = 93.216\n",
      "Training End Time  27990.920748000004\n",
      "\n",
      "EPOCH 99 ...\n",
      "Validation Accuracy = 92.374\n",
      "Training Accuracy = 92.998\n",
      "Training End Time  28265.329167000004\n",
      "\n",
      "EPOCH 100 ...\n",
      "Validation Accuracy = 92.578\n",
      "Training Accuracy = 93.494\n",
      "Training End Time  28538.811649000003\n",
      "\n",
      "Model saved\n"
     ]
    }
   ],
   "source": [
    "### Train your model here.\n",
    "### Feel free to use as many code cells as needed.\n",
    "import time\n",
    "\n",
    "epoch_count = []\n",
    "train_accuracy = []\n",
    "val_accuracy = []\n",
    "iter_per_epoch = 0\n",
    "\n",
    "\n",
    "start_time = time.clock()\n",
    "\n",
    "with tf.Session() as sess:\n",
    "    sess.run(tf.initialize_all_variables())\n",
    "    num_examples = len(X_train)\n",
    "    iter_per_epoch = np.floor(len(X_train) / BATCH_SIZE)\n",
    "    \n",
    "    print(\"Training...\")\n",
    "    print('Training Start Time ' , start_time)\n",
    "    \n",
    "    for i in range(EPOCHS):\n",
    "        \n",
    "        X_train, y_train = shuffle(X_train, y_train)\n",
    "        \n",
    "        for offset in range(0, num_examples, BATCH_SIZE):\n",
    "            \n",
    "            end = offset + BATCH_SIZE\n",
    "            batch_x, batch_y = X_train[offset:end], y_train[offset:end]\n",
    "            sess.run(training_operation, feed_dict={x: batch_x, y: batch_y})\n",
    "            \n",
    "            \n",
    "        validation_accuracy = evaluate(X_valid, y_valid) \n",
    "        training_accuracy = evaluate(X_train, y_train)\n",
    "        \n",
    "        epoch_count.append(i+1)\n",
    "        train_accuracy.append(training_accuracy*100)\n",
    "        val_accuracy.append(validation_accuracy*100)\n",
    "        print(\"EPOCH {} ...\".format(i+1))\n",
    "        print(\"Validation Accuracy = {:.3f}\".format(validation_accuracy*100))\n",
    "        print(\"Training Accuracy = {:.3f}\".format(training_accuracy*100))\n",
    "        print('Training End Time ' , time.clock() - start_time)\n",
    "        print()\n",
    "        \n",
    "    saver.save(sess, 'lenet_traffic_sign_clf_2.ckpt')\n",
    "    print(\"Model saved\")"
   ]
  },
  {
   "cell_type": "code",
   "execution_count": null,
   "metadata": {
    "collapsed": true
   },
   "outputs": [],
   "source": [
    "### Plot Training And Validation Accuracy Epoch wise"
   ]
  },
  {
   "cell_type": "code",
   "execution_count": 25,
   "metadata": {
    "collapsed": false
   },
   "outputs": [
    {
     "data": {
      "image/png": "[encoded data removed]",
      "text/plain": [
       "<matplotlib.figure.Figure at 0x7f55854504a8>"
      ]
     },
     "metadata": {},
     "output_type": "display_data"
    }
   ],
   "source": [
    "import matplotlib.pyplot as plt\n",
    "\n",
    "acc_plot = plt.subplot(212)\n",
    "acc_plot.set_title('Accuracy')\n",
    "acc_plot.plot(epoch_count, train_accuracy, 'r', label='Training Accuracy')\n",
    "acc_plot.plot(epoch_count, val_accuracy, 'b', label='Validation Accuracy')\n",
    "acc_plot.set_ylim([0, 100])\n",
    "acc_plot.set_xlim([epoch_count[0], epoch_count[-1]])\n",
    "acc_plot.legend(loc=4)\n",
    "plt.tight_layout()\n",
    "plt.show() "
   ]
  },
  {
   "cell_type": "markdown",
   "metadata": {},
   "source": [
    "#### Test Accuracy"
   ]
  },
  {
   "cell_type": "code",
   "execution_count": 26,
   "metadata": {
    "collapsed": false
   },
   "outputs": [
    {
     "name": "stdout",
     "output_type": "stream",
     "text": [
      "Test Accuracy = 87.086\n"
     ]
    }
   ],
   "source": [
    "with tf.Session() as sess:\n",
    "    saver.restore(sess, tf.train.latest_checkpoint('.'))\n",
    "\n",
    "    test_accuracy = evaluate(X_test, y_test)\n",
    "    print(\"Test Accuracy = {:.3f}\".format(test_accuracy*100))"
   ]
  },
  {
   "cell_type": "markdown",
   "metadata": {},
   "source": [
    "### Question 4\n",
    "\n",
    "_How did you train your model? (Type of optimizer, batch size, epochs, hyperparameters, etc.)_\n"
   ]
  },
  {
   "cell_type": "markdown",
   "metadata": {},
   "source": [
    "**Answer:**\n",
    "\n",
    "* I have tried to train on different epochs (10,20,30) . I found that , at 30 epochs , Model is more robust and generalized to test data .\n",
    "\n",
    "* I have kept the batch size as 128, 256 . However 256 batch was not converging and stucked to local minima .So later changed to 128 . It worked fine .\n",
    "\n",
    "* I have kept the learning  rate unchanged as 0.01 . That worked pretty well .\n",
    "\n",
    "* Coming to optimizer , Adam performed better than SGD , So Adam optimizer is used here .\n"
   ]
  },
  {
   "cell_type": "markdown",
   "metadata": {},
   "source": [
    "### Question 5\n",
    "\n",
    "\n",
    "_What approach did you take in coming up with a solution to this problem? It may have been a process of trial and error, in which case, outline the steps you took to get to the final solution and why you chose those steps. Perhaps your solution involved an already well known implementation or architecture. In this case, discuss why you think this is suitable for the current problem._"
   ]
  },
  {
   "cell_type": "markdown",
   "metadata": {},
   "source": [
    "**Answer:**\n",
    "\n",
    "* As I mentioned above , I have implemented LeNet architecture . \n",
    "\n",
    "* Differenet parametrs like epochs , batch size , learning rate were choosen using trial and error .\n",
    "\n",
    "* To make the model more robust , I have implemeted L2 regularization and used drop out .\n",
    "\n",
    "* L2 regularization is applied to fc1 and fc2 layer weights . \n",
    "\n",
    "* I noticed , dropout didn't help me significantly to improve the accuracy . So I stick to L2 regularization only\n",
    "\n"
   ]
  },
  {
   "cell_type": "markdown",
   "metadata": {},
   "source": [
    "---\n",
    "\n",
    "## Step 3: Test a Model on New Images\n",
    "\n",
    "Take several pictures of traffic signs that you find on the web or around you (at least five), and run them through your classifier on your computer to produce example results. The classifier might not recognize some local signs but it could prove interesting nonetheless.\n",
    "\n",
    "You may find `signnames.csv` useful as it contains mappings from the class id (integer) to the actual sign name."
   ]
  },
  {
   "cell_type": "markdown",
   "metadata": {},
   "source": [
    "### Implementation\n",
    "\n",
    "Use the code cell (or multiple code cells, if necessary) to implement the first step of your project. Once you have completed your implementation and are satisfied with the results, be sure to thoroughly answer the questions that follow."
   ]
  },
  {
   "cell_type": "markdown",
   "metadata": {},
   "source": [
    "### Question 6\n",
    "\n",
    "_Choose five candidate images of traffic signs and provide them in the report. Are there any particular qualities of the image(s) that might make classification difficult? It could be helpful to plot the images in the notebook._\n",
    "\n"
   ]
  },
  {
   "cell_type": "markdown",
   "metadata": {},
   "source": [
    "**Answer:**\n",
    "\n",
    "* I have choosen the five candidate images similar to German dataset .\n",
    "\n",
    "* The images were in RGBA and changed to 3 channel RGB , later normalized for testing \n",
    "\n",
    "* When the images are occluded , model has difficulties to classify those imgaes .\n",
    "\n",
    "* I have also observed when the images are jittered and angle of images are tilted majorly , making  the classification inaccurate .\n",
    "\n",
    "* Images which are not present in the training data set and thus giving  no clue to model during training and inference as well ."
   ]
  },
  {
   "cell_type": "code",
   "execution_count": 78,
   "metadata": {
    "collapsed": false
   },
   "outputs": [
    {
     "name": "stdout",
     "output_type": "stream",
     "text": [
      "(32, 32, 3)\n",
      "(32, 32, 3)\n",
      "(32, 32, 3)\n",
      "(32, 32, 3)\n",
      "(32, 32, 3)\n",
      "(5, 32, 32, 3)\n",
      "Candidate Images:\n"
     ]
    },
    {
     "data": {
      "image/png": "[encoded data removed]",
      "text/plain": [
       "<matplotlib.figure.Figure at 0x7f34e01b5f28>"
      ]
     },
     "metadata": {},
     "output_type": "display_data"
    }
   ],
   "source": [
    "import csv\n",
    "import cv2\n",
    "import matplotlib.pyplot as plt\n",
    "import matplotlib.image as mpimg\n",
    "import numpy as np\n",
    "### Run the predictions here.\n",
    "### Feel free to use as many code cells as needed.\n",
    "\n",
    "### Load the images and plot them here.\n",
    "### Feel free to use as many code cells as needed.\n",
    "\n",
    "filenames = [\n",
    "    'priority_road.png',\n",
    "    'slippery_road.png',\n",
    "    'limit_30.png',\n",
    "    'limit_50.png',\n",
    "    'wild_animals.png']\n",
    "\n",
    "filenames_np = [\n",
    "    'priority_road.npy',\n",
    "    'slippery_road.npy',\n",
    "    'limit_30.npy',\n",
    "    'limit_50.npy',\n",
    "    'wild_animals.npy']\n",
    "\n",
    "\n",
    "filename_labels = [12,\n",
    "                   23,\n",
    "                   1,\n",
    "                   2,\n",
    "                   31]\n",
    "\n",
    "cand_images = []\n",
    "\n",
    "\n",
    "for img in filenames_np:\n",
    "    img = np.load(img)\n",
    "    print (img.shape)\n",
    "    #img = normalize(sign.astype(np.float32))\n",
    "    cand_images.append(img)\n",
    "    \n",
    "cand_images = np.array(cand_images)\n",
    "# print (cand_images.shape)\n",
    "cand_images = normalize(cand_images.astype(np.float32))\n",
    "print (cand_images.shape)\n",
    "\n",
    "label_names = {}\n",
    "\n",
    "with open('signnames.csv') as csvfile:\n",
    "    reader = csv.reader(csvfile, delimiter=',')\n",
    "    for (label, name) in reader:\n",
    "        label_names[label] = name\n",
    "        \n",
    "def label_text(label):\n",
    "    label = str(label)\n",
    "    return label_names[label]\n",
    "\n",
    "def addsubplot(i, img):\n",
    "    plt.subplot(1,5,i)\n",
    "    plt.xticks(()); plt.yticks(());\n",
    "    plt.tight_layout(pad=2.5, w_pad=3.0, h_pad=1.0)\n",
    "    plt.title('Class: {}'.format(filename_labels[i-1]))\n",
    "    plt.imshow(img)\n",
    "\n",
    "print('Candidate Images:')\n",
    "n = 0\n",
    "\n",
    "for i in range(cand_images.shape[0]):\n",
    "    #image = np.load(img)\n",
    "    plt.figure(1)\n",
    "    addsubplot(n+1, cand_images[i])\n",
    "    n +=1"
   ]
  },
  {
   "cell_type": "markdown",
   "metadata": {},
   "source": [
    "### Question 7\n",
    "\n",
    "_Is your model able to perform equally well on captured pictures when compared to testing on the dataset? The simplest way to do this check the accuracy of the predictions. For example, if the model predicted 1 out of 5 signs correctly, it's 20% accurate._\n",
    "\n",
    "_**NOTE:** You could check the accuracy manually by using `signnames.csv` (same directory). This file has a mapping from the class id (0-42) to the corresponding sign name. So, you could take the class id the model outputs, lookup the name in `signnames.csv` and see if it matches the sign from the image._\n"
   ]
  },
  {
   "cell_type": "markdown",
   "metadata": {},
   "source": [
    "**Answer:**\n",
    "\n",
    "* Trained model couldn't perform well on the candidate images .\n",
    "* It couldn't classify  candidate images  correctly .\n",
    "* I'm collecting more data to add  variance to model training to make it robust ."
   ]
  },
  {
   "cell_type": "code",
   "execution_count": 82,
   "metadata": {
    "collapsed": false
   },
   "outputs": [
    {
     "data": {
      "text/plain": [
       "(5, 32, 32, 3)"
      ]
     },
     "execution_count": 82,
     "metadata": {},
     "output_type": "execute_result"
    }
   ],
   "source": [
    "cand_images.shape"
   ]
  },
  {
   "cell_type": "code",
   "execution_count": 83,
   "metadata": {
    "collapsed": false
   },
   "outputs": [
    {
     "name": "stdout",
     "output_type": "stream",
     "text": [
      "Model restored from previous training cycle.\n",
      "\n",
      "FILENAME:           LABEL:  PREDICTION:         \n",
      "priority_road.png   13      Yield               \n",
      "slippery_road.png   12      Priority road       \n",
      "limit_30.png        38      Keep right          \n",
      "limit_50.png        9       No passing          \n",
      "wild_animals.png    12      Priority road       \n"
     ]
    }
   ],
   "source": [
    "### Visualize the softmax probabilities here.\n",
    "### Feel free to use as many code cells as needed.\n",
    "\n",
    "# def evaluate_candidate_image(X_data, y_data):\n",
    "#     num_examples = len(X_data)\n",
    "#     total_accuracy = 0\n",
    "#     sess = tf.get_default_session()\n",
    "#     accuracy = sess.run(accuracy_operation, feed_dict={x: X_data, y: y_data})\n",
    "#     total_accuracy += (accuracy * len(X_data))\n",
    "#     return total_accuracy / num_examples\n",
    "\n",
    "saver = tf.train.Saver()\n",
    "\n",
    "with tf.Session() as session:\n",
    "    \n",
    "    saver.restore(session, \"lenet_traffic_sign_clf_2.ckpt\")\n",
    "    print(\"Model restored from previous training cycle.\")\n",
    "    print(\"\")\n",
    "    \n",
    "    prediction_op = tf.argmax(logits, 1)\n",
    "    predictions = session.run(prediction_op,  feed_dict={x: cand_images, y: filename_labels})\n",
    "    \n",
    "    print(\"{:20}{:8}{:20}\".format(\"FILENAME:\", \"LABEL:\", \"PREDICTION:\"))\n",
    "    for i, prediction in enumerate(predictions):\n",
    "        print(\"{:20}{:<8}{:20}\".format(filenames[i], prediction, label_text(prediction)))\n"
   ]
  },
  {
   "cell_type": "markdown",
   "metadata": {},
   "source": [
    "### Question 8\n",
    "\n",
    "*Use the model's softmax probabilities to visualize the **certainty** of its predictions, [`tf.nn.top_k`](https://www.tensorflow.org/versions/r0.12/api_docs/python/nn.html#top_k) could prove helpful here. Which predictions is the model certain of? Uncertain? If the model was incorrect in its initial prediction, does the correct prediction appear in the top k? (k should be 5 at most)*\n",
    "\n",
    "`tf.nn.top_k` will return the values and indices (class ids) of the top k predictions. So if k=3, for each sign, it'll return the 3 largest probabilities (out of a possible 43) and the correspoding class ids.\n",
    "\n",
    "Take this numpy array as an example:\n",
    "\n",
    "```\n",
    "# (5, 6) array\n",
    "a = np.array([[ 0.24879643,  0.07032244,  0.12641572,  0.34763842,  0.07893497,\n",
    "         0.12789202],\n",
    "       [ 0.28086119,  0.27569815,  0.08594638,  0.0178669 ,  0.18063401,\n",
    "         0.15899337],\n",
    "       [ 0.26076848,  0.23664738,  0.08020603,  0.07001922,  0.1134371 ,\n",
    "         0.23892179],\n",
    "       [ 0.11943333,  0.29198961,  0.02605103,  0.26234032,  0.1351348 ,\n",
    "         0.16505091],\n",
    "       [ 0.09561176,  0.34396535,  0.0643941 ,  0.16240774,  0.24206137,\n",
    "         0.09155967]])\n",
    "```\n",
    "\n",
    "Running it through `sess.run(tf.nn.top_k(tf.constant(a), k=3))` produces:\n",
    "\n",
    "```\n",
    "TopKV2(values=array([[ 0.34763842,  0.24879643,  0.12789202],\n",
    "       [ 0.28086119,  0.27569815,  0.18063401],\n",
    "       [ 0.26076848,  0.23892179,  0.23664738],\n",
    "       [ 0.29198961,  0.26234032,  0.16505091],\n",
    "       [ 0.34396535,  0.24206137,  0.16240774]]), indices=array([[3, 0, 5],\n",
    "       [0, 1, 4],\n",
    "       [0, 5, 1],\n",
    "       [1, 3, 5],\n",
    "       [1, 4, 3]], dtype=int32))\n",
    "```\n",
    "\n",
    "Looking just at the first row we get `[ 0.34763842,  0.24879643,  0.12789202]`, you can confirm these are the 3 largest probabilities in `a`. You'll also notice `[3, 0, 5]` are the corresponding indices."
   ]
  },
  {
   "cell_type": "markdown",
   "metadata": {},
   "source": [
    "**Answer:**\n",
    "\n",
    "* Below are my observations on trained model :\n",
    "\n",
    "  * Out of top 5 softmax probabilities , Only class -2 is present in the list . When I took a closer look at the dataset , I found there are enough samples for Class - 2 (Speed limit (50km/h) are present .\n",
    "  \n",
    "  * This is one of the reason , model learned the features for class - 2 and predicted in the top 5 softmax probabilities range .\n",
    "  \n",
    "  * Others classes  could not do well , We may need more data and training iterations (epochs) to make the model learn all different possible  features correctly ."
   ]
  },
  {
   "cell_type": "code",
   "execution_count": 85,
   "metadata": {
    "collapsed": false
   },
   "outputs": [],
   "source": [
    "from sklearn.preprocessing import LabelBinarizer\n",
    "\n",
    "def plot_top_k_probabilities(labels, probabilities, title):\n",
    "    print(title)\n",
    "    plt.plot(list(labels), list(probabilities), 'ro')\n",
    "    plt.ylabel('Probability') \n",
    "    plt.show()\n",
    "\n"
   ]
  },
  {
   "cell_type": "code",
   "execution_count": 89,
   "metadata": {
    "collapsed": false,
    "scrolled": false
   },
   "outputs": [
    {
     "name": "stdout",
     "output_type": "stream",
     "text": [
      "Model restored from previous training cycle.\n",
      "\n",
      "Validation Accuracy: 0.97%\n",
      "Test Accuracy: 0.89%\n",
      "Candidate Images Accuracy: 0.00%\n",
      "\n",
      "\n",
      "Predicted (13) Yield, Actual (12) priority_road.png\n"
     ]
    },
    {
     "data": {
      "image/png": "[encoded data removed]",
      "text/plain": [
       "<matplotlib.figure.Figure at 0x7f348b295be0>"
      ]
     },
     "metadata": {},
     "output_type": "display_data"
    },
    {
     "name": "stdout",
     "output_type": "stream",
     "text": [
      "\n",
      "Predicted (12) Priority road, Actual (23) slippery_road.png\n"
     ]
    },
    {
     "data": {
      "image/png": "[encoded data removed]",
      "text/plain": [
       "<matplotlib.figure.Figure at 0x7f348adc2278>"
      ]
     },
     "metadata": {},
     "output_type": "display_data"
    },
    {
     "name": "stdout",
     "output_type": "stream",
     "text": [
      "\n",
      "Predicted (38) Keep right, Actual (1) limit_30.png\n"
     ]
    },
    {
     "data": {
      "image/png": "[encoded data removed]",
      "text/plain": [
       "<matplotlib.figure.Figure at 0x7f348b1973c8>"
      ]
     },
     "metadata": {},
     "output_type": "display_data"
    },
    {
     "name": "stdout",
     "output_type": "stream",
     "text": [
      "\n",
      "Predicted (9) No passing, Actual (2) limit_50.png\n"
     ]
    },
    {
     "data": {
      "image/png": "[encoded data removed]",
      "text/plain": [
       "<matplotlib.figure.Figure at 0x7f348b16a6a0>"
      ]
     },
     "metadata": {},
     "output_type": "display_data"
    },
    {
     "name": "stdout",
     "output_type": "stream",
     "text": [
      "\n",
      "Predicted (12) Priority road, Actual (31) wild_animals.png\n"
     ]
    },
    {
     "data": {
      "image/png": "[encoded data removed]",
      "text/plain": [
       "<matplotlib.figure.Figure at 0x7f348b140ac8>"
      ]
     },
     "metadata": {},
     "output_type": "display_data"
    }
   ],
   "source": [
    "saver = tf.train.Saver()\n",
    "\n",
    "with tf.Session() as session:\n",
    "    saver.restore(session, \"lenet_traffic_sign_clf_.ckpt\")\n",
    "    print(\"Model restored from previous training cycle.\")\n",
    "    print(\"\")\n",
    "    \n",
    "    prediction_op = tf.nn.softmax(logits)\n",
    "    top_five = tf.nn.top_k(prediction_op, k=5, sorted=True, name=None)\n",
    "    predictions, acc = session.run([top_five, accuracy_operation], feed_dict={x: cand_images, y: filename_labels})\n",
    "    prediction_values, prediction_indices = predictions\n",
    "    \n",
    "    print('Validation Accuracy: {:.2f}%'.format(validation_accuracy))\n",
    "    print('Test Accuracy: {:.2f}%'.format(test_accuracy))\n",
    "    print('Candidate Images Accuracy: {:.2f}%'.format(acc))\n",
    "    print(\"\")\n",
    "    \n",
    "    for i, (probabilities, labels) in enumerate(zip(prediction_values, prediction_indices)):\n",
    "        title = \"Predicted ({}) {}, Actual ({}) {}\".format(labels[0], label_text(labels[0]), filename_labels[i], filenames[i])\n",
    "        print(\"\")\n",
    "        plot_top_k_probabilities(labels, probabilities, title)\n"
   ]
  },
  {
   "cell_type": "markdown",
   "metadata": {},
   "source": [
    "> **Note**: Once you have completed all of the code implementations and successfully answered each question above, you may finalize your work by exporting the iPython Notebook as an HTML document. You can do this by using the menu above and navigating to  \\n\",\n",
    "    \"**File -> Download as -> HTML (.html)**. Include the finished document along with this notebook as your submission."
   ]
  },
  {
   "cell_type": "code",
   "execution_count": null,
   "metadata": {
    "collapsed": true
   },
   "outputs": [],
   "source": []
  }
 ],
 "metadata": {
  "anaconda-cloud": {},
  "kernelspec": {
   "display_name": "Python [conda env:tensorflow]",
   "language": "python",
   "name": "conda-env-tensorflow-py"
  },
  "language_info": {
   "codemirror_mode": {
    "name": "ipython",
    "version": 3
   },
   "file_extension": ".py",
   "mimetype": "text/x-python",
   "name": "python",
   "nbconvert_exporter": "python",
   "pygments_lexer": "ipython3",
   "version": "3.5.2"
  }
 },
 "nbformat": 4,
 "nbformat_minor": 1
}
